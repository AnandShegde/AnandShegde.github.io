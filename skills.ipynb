{
  "cells": [
    {
      "cell_type": "markdown",
      "metadata": {},
      "source": [
        "<div class=\"skills\">\n",
        "![c++](images/skills/c++.png)\n",
        "![python](images/skills/python.png)\n",
        "</div>\n",
        "<!-- # Skills Images"
      ],
      "id": "91b83909"
    },
    {
      "cell_type": "markdown",
      "metadata": {},
      "source": [
        "from PIL import Image\n",
        "import os\n",
        "\n",
        "image_folder = 'images/skills/'\n",
        "\n",
        "# List all files in the folder\n",
        "image_files = [f for f in os.listdir(image_folder) if os.path.isfile(os.path.join(image_folder, f))]\n",
        "\n",
        "# Sort the files for consistent ordering\n",
        "image_files.sort()\n",
        "\n",
        "# Create a Quarto document\n",
        "for image_file in image_files:\n",
        "    image_path = os.path.join(image_folder, image_file)\n",
        "    image = Image.open(image_path)\n",
        "    image.show()  # Display the image (you may need to close the image to proceed)\n",
        "\n",
        "    # Write the filename (without extension) below the image\n",
        "    filename_without_extension = os.path.splitext(image_file)[0]\n",
        "    print(f\"![{filename_without_extension}]({image_path})\")\n",
        "``` -->"
      ],
      "id": "013ebb0f"
    }
  ],
  "metadata": {
    "kernelspec": {
      "name": "python3",
      "language": "python",
      "display_name": "Python 3 (ipykernel)"
    }
  },
  "nbformat": 4,
  "nbformat_minor": 5
}